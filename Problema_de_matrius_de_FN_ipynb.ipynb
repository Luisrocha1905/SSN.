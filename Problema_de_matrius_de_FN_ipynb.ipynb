{
  "nbformat": 4,
  "nbformat_minor": 0,
  "metadata": {
    "colab": {
      "provenance": []
    },
    "kernelspec": {
      "name": "python3",
      "display_name": "Python 3"
    },
    "language_info": {
      "name": "python"
    }
  },
  "cells": [
    {
      "cell_type": "markdown",
      "source": [
        "Calculeu els valors propis de A. Determineu els vectors propis associats a cada un dels valors propis de A. Decidiu si A és diagonalitzable o no."
      ],
      "metadata": {
        "id": "Z3eFIlnCjHbl"
      }
    },
    {
      "cell_type": "code",
      "execution_count": 2,
      "metadata": {
        "id": "l2oJFRCarble",
        "colab": {
          "base_uri": "https://localhost:8080/"
        },
        "outputId": "244a587c-aa92-4844-d05d-975bcfc7e1b7"
      },
      "outputs": [
        {
          "output_type": "stream",
          "name": "stdout",
          "text": [
            "Valores propios:\n",
            "[2. 1. 1.]\n",
            "\n",
            "Vectores propios (columnas de la matriz):\n",
            "[[ 0.51449576  0.59123721 -0.6625263 ]\n",
            " [ 0.68599434  0.55965564  0.72151648]\n",
            " [ 0.51449576  0.58071002 -0.20117871]]\n",
            "¿Es diagonalizable? Sí\n"
          ]
        }
      ],
      "source": [
        "import numpy as np\n",
        "\n",
        "# Definir la matriz A\n",
        "A = np.array([[7, 3, -9],\n",
        "              [8, 5, -12],\n",
        "              [6, 3, -8]])\n",
        "\n",
        "# Calcular los valores propios y los vectores propios\n",
        "eigenvalues, eigenvectors = np.linalg.eig(A)\n",
        "\n",
        "# Mostrar los valores propios y los vectores propios\n",
        "print(\"Valores propios:\")\n",
        "print(eigenvalues)\n",
        "print(\"\\nVectores propios (columnas de la matriz):\")\n",
        "print(eigenvectors)\n",
        "\n",
        "# Comprobar si la matriz es diagonalizable\n",
        "# Una matriz es diagonalizable si tiene 3 vectores propios linealmente independientes\n",
        "rank = np.linalg.matrix_rank(eigenvectors)\n",
        "Diagonalizable = rank == 3\n",
        "\n",
        "print(\"¿Es diagonalizable?\", \"Sí\" if Diagonalizable else \"No\")"
      ]
    }
  ]
}